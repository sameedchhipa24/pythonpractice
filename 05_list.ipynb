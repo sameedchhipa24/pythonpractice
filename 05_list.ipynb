{
 "cells": [
  {
   "cell_type": "markdown",
   "metadata": {},
   "source": [
    "# Create List\n"
   ]
  },
  {
   "cell_type": "code",
   "execution_count": 84,
   "metadata": {},
   "outputs": [
    {
     "name": "stdout",
     "output_type": "stream",
     "text": [
      "['sameed', 'musavir', 'mudassir', 'muzamil', 'mahad', 'aliyan', 'mustafa']\n",
      "['A', 'C', 'B', 'D', 'E', 'F']\n"
     ]
    }
   ],
   "source": [
    "names:list[str]=[\"sameed\",\"musavir\",\"mudassir\",\"muzamil\",\"mahad\",\"aliyan\",\"mustafa\"];\n",
    "print(names)\n",
    "\n",
    "names :list[str] = list(\"ACBDEF\")\n",
    "print(names)"
   ]
  },
  {
   "cell_type": "markdown",
   "metadata": {},
   "source": [
    "# List Call With Postive Index"
   ]
  },
  {
   "cell_type": "code",
   "execution_count": 2,
   "metadata": {},
   "outputs": [
    {
     "name": "stdout",
     "output_type": "stream",
     "text": [
      "sameed\n",
      "mudassir\n",
      "mahad\n",
      "mustafa\n"
     ]
    }
   ],
   "source": [
    "names:list[str]=[\"sameed\",\"musavir\",\"mudassir\",\"muzamil\",\"mahad\",\"aliyan\",\"mustafa\"];\n",
    "print(names[0])\n",
    "print(names[2])\n",
    "print(names[4])\n",
    "print(names[6])"
   ]
  },
  {
   "cell_type": "markdown",
   "metadata": {},
   "source": [
    "# List Call With Negative Index"
   ]
  },
  {
   "cell_type": "code",
   "execution_count": 3,
   "metadata": {},
   "outputs": [
    {
     "name": "stdout",
     "output_type": "stream",
     "text": [
      "aliyan\n",
      "muzamil\n",
      "sameed\n"
     ]
    }
   ],
   "source": [
    "#                   -7       -6        -5         -4       -3       -2       -1\n",
    "names:list[str]=[\"sameed\",\"musavir\",\"mudassir\",\"muzamil\",\"mahad\",\"aliyan\",\"mustafa\"];\n",
    "\n",
    "                                                            #         7\n",
    "print(names[-4])\n",
    "print(names[-2])   # Phele list ki length se Minus Karlo jo apne -index me diya he  For Example len(names)-2= 5 \n",
    "print(names[-7])"
   ]
  },
  {
   "cell_type": "markdown",
   "metadata": {},
   "source": [
    "# Slicing in list"
   ]
  },
  {
   "cell_type": "code",
   "execution_count": 90,
   "metadata": {},
   "outputs": [
    {
     "name": "stdout",
     "output_type": "stream",
     "text": [
      "[5, 6, 7, 8, 9]\n",
      "[2, 4, 6, 8, 10]\n"
     ]
    }
   ],
   "source": [
    "marks:list[int]=[2,3,4,5,6,7,8,9,10]\n",
    "\n",
    "print(marks[3:8])\n",
    "\n",
    "# With Jump Index\n",
    "print(marks[:len(marks):2])\n",
    "\n"
   ]
  },
  {
   "cell_type": "markdown",
   "metadata": {},
   "source": [
    "# Edit The List"
   ]
  },
  {
   "cell_type": "code",
   "execution_count": 4,
   "metadata": {},
   "outputs": [
    {
     "name": "stdout",
     "output_type": "stream",
     "text": [
      "['sameed', 'musavir', 'mudassir', 'muzamil', 'mahad', 'aliyan', 'mustafa']\n",
      "['sameed', 'musavir', 'mudassir', 'Usaid', 'mahad', 'aliyan', 'mustafa']\n"
     ]
    }
   ],
   "source": [
    "names:list[str]=[\"sameed\",\"musavir\",\"mudassir\",\"muzamil\",\"mahad\",\"aliyan\",\"mustafa\"];\n",
    "\n",
    "print(names)\n",
    "\n",
    "names[3]=\"Usaid\" # mutable -> editable\n",
    "\n",
    "print(names)\n"
   ]
  },
  {
   "cell_type": "markdown",
   "metadata": {},
   "source": [
    "# Delete In list"
   ]
  },
  {
   "cell_type": "code",
   "execution_count": 8,
   "metadata": {},
   "outputs": [
    {
     "name": "stdout",
     "output_type": "stream",
     "text": [
      "['sameed', 'musavir', 'mudassir', 'muzamil', 'mahad', 'aliyan', 'mustafa']\n",
      "['sameed', 'musavir', 'muzamil', 'mahad', 'aliyan', 'mustafa']\n",
      "['sameed', 'musavir', 'muzamil', 'mahad', 'mustafa']\n"
     ]
    }
   ],
   "source": [
    "names:list[str]=[\"sameed\",\"musavir\",\"mudassir\",\"muzamil\",\"mahad\",\"aliyan\",\"mustafa\"];\n",
    "\n",
    "print(names)\n",
    "\n",
    "del names[2];\n",
    "print(names);\n",
    "\n",
    "del names[4];\n",
    "print(names);"
   ]
  },
  {
   "cell_type": "markdown",
   "metadata": {},
   "source": [
    "# List Method\n"
   ]
  },
  {
   "cell_type": "markdown",
   "metadata": {},
   "source": [
    "# POP\n",
    "Remove the last element from a list and return it. If the list is empty, do nothing."
   ]
  },
  {
   "cell_type": "code",
   "execution_count": 67,
   "metadata": {},
   "outputs": [
    {
     "name": "stdout",
     "output_type": "stream",
     "text": [
      "['sameed', 'musavir', 'mudassir', 'muzamil', 'mahad', 'aliyan']\n"
     ]
    }
   ],
   "source": [
    "names:list[str]=[\"sameed\",\"musavir\",\"mudassir\",\"muzamil\",\"mahad\",\"aliyan\",\"mustafa\"];\n",
    "\n",
    "names.pop()\n",
    "print(names)\n",
    "\n",
    "\n"
   ]
  },
  {
   "cell_type": "markdown",
   "metadata": {},
   "source": [
    "# SORT \n",
    "Sorts all elements in ascending order."
   ]
  },
  {
   "cell_type": "code",
   "execution_count": 29,
   "metadata": {},
   "outputs": [
    {
     "name": "stdout",
     "output_type": "stream",
     "text": [
      "['aliyan', 'mahad', 'mudassir', 'musavir', 'mustafa', 'muzamil', 'sameed']\n"
     ]
    }
   ],
   "source": [
    "names:list[str]=[\"sameed\",\"musavir\",\"mudassir\",\"muzamil\",\"mahad\",\"aliyan\",\"mustafa\"];\n",
    "\n",
    "names.sort() # Returns none\n",
    "print(names)\n"
   ]
  },
  {
   "cell_type": "markdown",
   "metadata": {},
   "source": [
    "# Reverse With Sort Method (But Not Use)"
   ]
  },
  {
   "cell_type": "code",
   "execution_count": 91,
   "metadata": {},
   "outputs": [
    {
     "name": "stdout",
     "output_type": "stream",
     "text": [
      "['sameed', 'muzamil', 'mustafa', 'musavir', 'mudassir', 'mahad', 'aliyan']\n"
     ]
    }
   ],
   "source": [
    "names:list[str]=[\"sameed\",\"musavir\",\"mudassir\",\"muzamil\",\"mahad\",\"aliyan\",\"mustafa\"];\n",
    "\n",
    "names.sort(reverse=True) # Returns none\n",
    "print(names)"
   ]
  },
  {
   "cell_type": "markdown",
   "metadata": {},
   "source": [
    "# REVERSE \n",
    "Reverses the current contents of the list."
   ]
  },
  {
   "cell_type": "code",
   "execution_count": 30,
   "metadata": {},
   "outputs": [
    {
     "name": "stdout",
     "output_type": "stream",
     "text": [
      "['mustafa', 'aliyan', 'mahad', 'muzamil', 'mudassir', 'musavir', 'sameed']\n"
     ]
    }
   ],
   "source": [
    "names:list[str]=[\"sameed\",\"musavir\",\"mudassir\",\"muzamil\",\"mahad\",\"aliyan\",\"mustafa\"];\n",
    "\n",
    "names.reverse() # Returns none\n",
    "print(names)"
   ]
  },
  {
   "cell_type": "markdown",
   "metadata": {},
   "source": [
    "# REMOVE \n",
    "Removes an element at a given index (0-based) from the list. The remaining elements are shifted to fill the gap left\n"
   ]
  },
  {
   "cell_type": "code",
   "execution_count": 39,
   "metadata": {},
   "outputs": [
    {
     "name": "stdout",
     "output_type": "stream",
     "text": [
      "['musavir', 'mudassir', 'muzamil', 'mahad', 'aliyan', 'mustafa']\n"
     ]
    },
    {
     "ename": "ValueError",
     "evalue": "list.remove(x): x not in list",
     "output_type": "error",
     "traceback": [
      "\u001b[1;31m---------------------------------------------------------------------------\u001b[0m",
      "\u001b[1;31mValueError\u001b[0m                                Traceback (most recent call last)",
      "\u001b[1;32me:\\Python1\\Assigment\\list.ipynb Cell 19\u001b[0m line \u001b[0;36m6\n\u001b[0;32m      <a href='vscode-notebook-cell:/e%3A/Python1/Assigment/list.ipynb#X32sZmlsZQ%3D%3D?line=2'>3</a>\u001b[0m names\u001b[39m.\u001b[39mremove(\u001b[39m\"\u001b[39m\u001b[39msameed\u001b[39m\u001b[39m\"\u001b[39m)\n\u001b[0;32m      <a href='vscode-notebook-cell:/e%3A/Python1/Assigment/list.ipynb#X32sZmlsZQ%3D%3D?line=3'>4</a>\u001b[0m \u001b[39mprint\u001b[39m(names)\n\u001b[1;32m----> <a href='vscode-notebook-cell:/e%3A/Python1/Assigment/list.ipynb#X32sZmlsZQ%3D%3D?line=5'>6</a>\u001b[0m names\u001b[39m.\u001b[39;49mremove(\u001b[39m\"\u001b[39;49m\u001b[39mali\u001b[39;49m\u001b[39m\"\u001b[39;49m)\n\u001b[0;32m      <a href='vscode-notebook-cell:/e%3A/Python1/Assigment/list.ipynb#X32sZmlsZQ%3D%3D?line=6'>7</a>\u001b[0m \u001b[39mprint\u001b[39m(names)\n",
      "\u001b[1;31mValueError\u001b[0m: list.remove(x): x not in list"
     ]
    }
   ],
   "source": [
    "names:list[str]=[\"sameed\",\"musavir\",\"mudassir\",\"muzamil\",\"mahad\",\"aliyan\",\"mustafa\"];\n",
    "\n",
    "names.remove(\"sameed\")\n",
    "print(names)\n",
    "\n",
    "names.remove(\"ali\")\n",
    "print(names)"
   ]
  },
  {
   "cell_type": "markdown",
   "metadata": {},
   "source": [
    "# INSERT \n",
    "Inserts an item at the specified position within the list. The first parameter is the index where you want to insert the new value (0)"
   ]
  },
  {
   "cell_type": "code",
   "execution_count": 38,
   "metadata": {},
   "outputs": [
    {
     "name": "stdout",
     "output_type": "stream",
     "text": [
      "['huzaifa', 'sameed', 'musavir', 'mudassir', 'muzamil', 'mahad', 'aliyan', 'mustafa']\n",
      "['huzaifa', 'sameed', 'musavir', 'mudassir', 'muzamil', 'gufran', 'mahad', 'aliyan', 'mustafa']\n",
      "['huzaifa', 'sameed', 'musavir', 'mudassir', 'muzamil', 'gufran', 'mahad', 'aliyan', 'asad', 'mustafa']\n"
     ]
    }
   ],
   "source": [
    "names:list[str]=[\"sameed\",\"musavir\",\"mudassir\",\"muzamil\",\"mahad\",\"aliyan\",\"mustafa\"];\n",
    "\n",
    "names.insert(0,\"huzaifa\")\n",
    "print(names)\n",
    "\n",
    "names.insert(5,\"gufran\")\n",
    "print(names)\n",
    "\n",
    "names.insert(8,\"asad\")\n",
    "print(names)"
   ]
  },
  {
   "cell_type": "markdown",
   "metadata": {},
   "source": [
    "# INDEX \n",
    "Returns the index of an item if found or -1 otherwise."
   ]
  },
  {
   "cell_type": "code",
   "execution_count": 64,
   "metadata": {},
   "outputs": [
    {
     "name": "stdout",
     "output_type": "stream",
     "text": [
      "0\n",
      "5\n"
     ]
    },
    {
     "ename": "ValueError",
     "evalue": "'ali' is not in list",
     "output_type": "error",
     "traceback": [
      "\u001b[1;31m---------------------------------------------------------------------------\u001b[0m",
      "\u001b[1;31mValueError\u001b[0m                                Traceback (most recent call last)",
      "\u001b[1;32me:\\Python1\\Assigment\\list.ipynb Cell 23\u001b[0m line \u001b[0;36m9\n\u001b[0;32m      <a href='vscode-notebook-cell:/e%3A/Python1/Assigment/list.ipynb#X46sZmlsZQ%3D%3D?line=5'>6</a>\u001b[0m Name\u001b[39m=\u001b[39mnames\u001b[39m.\u001b[39mindex(\u001b[39m\"\u001b[39m\u001b[39mmusavir\u001b[39m\u001b[39m\"\u001b[39m,\u001b[39m2\u001b[39m)  \u001b[39m#[\"sameed\",\"musavir\",\"mudassir\",\"muzamil\",\"mahad\",\"musavir\",\"aliyan\",\"mustafa\"];\u001b[39;00m\n\u001b[0;32m      <a href='vscode-notebook-cell:/e%3A/Python1/Assigment/list.ipynb#X46sZmlsZQ%3D%3D?line=6'>7</a>\u001b[0m \u001b[39mprint\u001b[39m(Name)\n\u001b[1;32m----> <a href='vscode-notebook-cell:/e%3A/Python1/Assigment/list.ipynb#X46sZmlsZQ%3D%3D?line=8'>9</a>\u001b[0m Name\u001b[39m=\u001b[39mnames\u001b[39m.\u001b[39;49mindex(\u001b[39m\"\u001b[39;49m\u001b[39mali\u001b[39;49m\u001b[39m\"\u001b[39;49m)\n\u001b[0;32m     <a href='vscode-notebook-cell:/e%3A/Python1/Assigment/list.ipynb#X46sZmlsZQ%3D%3D?line=9'>10</a>\u001b[0m \u001b[39mprint\u001b[39m(Name)\n",
      "\u001b[1;31mValueError\u001b[0m: 'ali' is not in list"
     ]
    }
   ],
   "source": [
    "names:list[str]=[\"sameed\",\"musavir\",\"mudassir\",\"muzamil\",\"mahad\",\"musavir\",\"aliyan\",\"mustafa\"];\n",
    "\n",
    "Name=names.index(\"sameed\")\n",
    "print(Name)\n",
    "                                                #start- 2 index se searching karen ga phir agay jaye ga\n",
    "Name=names.index(\"musavir\",2)  #[\"sameed\",\"musavir\",\"mudassir\",\"muzamil\",\"mahad\",\"musavir\",\"aliyan\",\"mustafa\"];\n",
    "print(Name)\n",
    "\n",
    "Name=names.index(\"ali\")\n",
    "print(Name)"
   ]
  },
  {
   "cell_type": "markdown",
   "metadata": {},
   "source": [
    "# EXTEND -\n",
    "Extends the list with another list's items."
   ]
  },
  {
   "cell_type": "code",
   "execution_count": 48,
   "metadata": {},
   "outputs": [
    {
     "name": "stdout",
     "output_type": "stream",
     "text": [
      "['sameed', 'musavir', 'mudassir', 'muzamil', 'mahad', 'aliyan', 'mustafa']\n",
      "['sameed', 'musavir', 'mudassir', 'muzamil', 'mahad', 'aliyan', 'mustafa']\n"
     ]
    }
   ],
   "source": [
    "caste:list[str]=[\"muzamil\",\"mahad\",\"aliyan\",\"mustafa\"]\n",
    "names:list[str]=[\"sameed\",\"musavir\",\"mudassir\"];\n",
    "\n",
    "names.extend(caste)\n",
    "print(names)\n",
    "\n",
    "caste.extend(names)\n",
    "print(names)\n",
    "\n"
   ]
  },
  {
   "cell_type": "markdown",
   "metadata": {},
   "source": [
    "# COPY \n",
    "Makes a copy of the entire list."
   ]
  },
  {
   "cell_type": "code",
   "execution_count": 81,
   "metadata": {},
   "outputs": [
    {
     "name": "stdout",
     "output_type": "stream",
     "text": [
      "['sameed', 'musavir', 'mudassir', 'muzamil', 'mahad', 'usaid']\n",
      "['sameed', 'musavir', 'mudassir', 'muzamil', 'mahad', 'usaid']\n"
     ]
    }
   ],
   "source": [
    "names:list[str]=[\"sameed\",\"musavir\",\"mudassir\",\"muzamil\",\"mahad\",\"aliyan\"];\n",
    "\n",
    "newName=names\n",
    "newName[5]=\"usaid\"\n",
    "print(names)\n",
    "print(newName)\n",
    "\n"
   ]
  },
  {
   "cell_type": "markdown",
   "metadata": {},
   "source": [
    "# ye to names ke andar change ho raha he mujhe newName me change karna he isliye copy method ka istimal karen ge\n",
    "\n"
   ]
  },
  {
   "cell_type": "code",
   "execution_count": 83,
   "metadata": {},
   "outputs": [
    {
     "name": "stdout",
     "output_type": "stream",
     "text": [
      "['sameed', 'musavir', 'mudassir', 'muzamil', 'mahad', 'aliyan']\n",
      "['sameed', 'musavir', 'mudassir', 'muzamil', 'mahad', 'usaid']\n"
     ]
    }
   ],
   "source": [
    "names:list[str]=[\"sameed\",\"musavir\",\"mudassir\",\"muzamil\",\"mahad\",\"aliyan\"];\n",
    "\n",
    "newName=names.copy() #Shallow Copy\n",
    "newName[5]=\"usaid\"\n",
    "\n",
    "print(names)\n",
    "print(newName)"
   ]
  },
  {
   "cell_type": "markdown",
   "metadata": {},
   "source": [
    "# COUNT \n",
    "Counts how many times an item appears in the list."
   ]
  },
  {
   "cell_type": "code",
   "execution_count": 55,
   "metadata": {},
   "outputs": [
    {
     "name": "stdout",
     "output_type": "stream",
     "text": [
      "3\n",
      "2\n",
      "1\n"
     ]
    }
   ],
   "source": [
    "names:list[str]=[\"sameed\",\"musavir\",\"mudassir\",\"muzamil\",\"mahad\",\"aliyan\",\"mustafa\",\"sameed\",\"sameed\",\"aliyan\"];\n",
    "\n",
    "\n",
    "print(names.count(\"sameed\"))\n",
    "print(names.count(\"aliyan\"))\n",
    "print(names.count(\"mudassir\"))"
   ]
  },
  {
   "cell_type": "markdown",
   "metadata": {},
   "source": [
    "# CLEAR \n",
    "Removes all elements from the list."
   ]
  },
  {
   "cell_type": "code",
   "execution_count": 72,
   "metadata": {},
   "outputs": [
    {
     "name": "stdout",
     "output_type": "stream",
     "text": [
      "None\n"
     ]
    }
   ],
   "source": [
    "names:list[str]=[\"sameed\",\"musavir\",\"mudassir\",\"muzamil\",\"mahad\",\"musavir\",\"aliyan\",\"mustafa\"];\n",
    "\n",
    "names.clear()\n",
    "print(names)"
   ]
  },
  {
   "cell_type": "markdown",
   "metadata": {},
   "source": [
    "# APPEND -\n",
    " Adds one or more elements to the end of the list."
   ]
  },
  {
   "cell_type": "code",
   "execution_count": 74,
   "metadata": {},
   "outputs": [
    {
     "name": "stdout",
     "output_type": "stream",
     "text": [
      "['sameed', 'musavir', 'mudassir', 'muzamil', 'mahad', 'musavir', 'aliyan', 'mustafa', 'asad']\n"
     ]
    }
   ],
   "source": [
    "names:list[str]=[\"sameed\",\"musavir\",\"mudassir\",\"muzamil\",\"mahad\",\"musavir\",\"aliyan\",\"mustafa\"];\n",
    "\n",
    "names.append(\"asad\")\n",
    "print(names)"
   ]
  },
  {
   "cell_type": "markdown",
   "metadata": {},
   "source": [
    "# Concatenating two lists"
   ]
  },
  {
   "cell_type": "code",
   "execution_count": 117,
   "metadata": {},
   "outputs": [
    {
     "name": "stdout",
     "output_type": "stream",
     "text": [
      "['green', 'blue', 'red', 'yellow', 'orange', 'pink']\n"
     ]
    }
   ],
   "source": [
    "a:list= [ \"green\",\"blue\",\"red\" ]\n",
    "b:list= [\"yellow\",\"orange\",\"pink\"]\n",
    "\n",
    "print(a+b)\n"
   ]
  },
  {
   "cell_type": "markdown",
   "metadata": {},
   "source": [
    "# List Comprehension\n",
    "```list=[Expression(Item) for item in iterate if condition]```"
   ]
  },
  {
   "cell_type": "code",
   "execution_count": 93,
   "metadata": {
    "tags": [
     " "
    ]
   },
   "outputs": [
    {
     "name": "stdout",
     "output_type": "stream",
     "text": [
      "[0, 1, 4, 9, 16, 25, 36, 49, 64, 81]\n"
     ]
    }
   ],
   "source": [
    "list = [ i*i for i in range(10) ]\n",
    "print(list)"
   ]
  },
  {
   "cell_type": "markdown",
   "metadata": {},
   "source": [
    "# With Expression If Condition"
   ]
  },
  {
   "cell_type": "code",
   "execution_count": 95,
   "metadata": {},
   "outputs": [
    {
     "name": "stdout",
     "output_type": "stream",
     "text": [
      "[0, 4, 16, 36, 64]\n"
     ]
    }
   ],
   "source": [
    "list = [ i*i for i in range(10) if i%2 == 0]\n",
    "print(list)"
   ]
  }
 ],
 "metadata": {
  "kernelspec": {
   "display_name": "practiceset",
   "language": "python",
   "name": "python3"
  },
  "language_info": {
   "codemirror_mode": {
    "name": "ipython",
    "version": 3
   },
   "file_extension": ".py",
   "mimetype": "text/x-python",
   "name": "python",
   "nbconvert_exporter": "python",
   "pygments_lexer": "ipython3",
   "version": "3.12.0"
  }
 },
 "nbformat": 4,
 "nbformat_minor": 2
}
