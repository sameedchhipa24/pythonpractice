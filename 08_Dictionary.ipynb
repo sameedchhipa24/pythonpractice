{
 "cells": [
  {
   "cell_type": "markdown",
   "metadata": {},
   "source": [
    "# ```Dictionary```\n",
    "\n",
    "Dictionaries are ordered collection of data items. They store multiple items in a single variable. Dictionary items are key-value pairs that are separated by commas and enclosed within curly brackets {}."
   ]
  },
  {
   "cell_type": "code",
   "execution_count": 1,
   "metadata": {},
   "outputs": [
    {
     "name": "stdout",
     "output_type": "stream",
     "text": [
      "{'name': 'Sameed', 'age': 19, 'eligible': True}\n"
     ]
    }
   ],
   "source": [
    "info = {'name':'Sameed', 'age':19, 'eligible':True}\n",
    "print(info)"
   ]
  },
  {
   "cell_type": "markdown",
   "metadata": {},
   "source": [
    "\n",
    "# ```Accessing single values```<br>\n",
    "Values in a dictionary can be accessed using keys. We can access dictionary values by mentioning keys either in square brackets or by using get method."
   ]
  },
  {
   "cell_type": "code",
   "execution_count": 3,
   "metadata": {},
   "outputs": [
    {
     "name": "stdout",
     "output_type": "stream",
     "text": [
      "Karan\n"
     ]
    }
   ],
   "source": [
    "info = {'name':'Sameed', 'age':19, 'eligible':True}\n",
    "print(info['name'])"
   ]
  },
  {
   "cell_type": "markdown",
   "metadata": {},
   "source": [
    "# <i>Error Generate</i>"
   ]
  },
  {
   "cell_type": "code",
   "execution_count": 4,
   "metadata": {},
   "outputs": [
    {
     "ename": "KeyError",
     "evalue": "'name1'",
     "output_type": "error",
     "traceback": [
      "\u001b[1;31m---------------------------------------------------------------------------\u001b[0m",
      "\u001b[1;31mKeyError\u001b[0m                                  Traceback (most recent call last)",
      "\u001b[1;32me:\\Python1\\Assigment\\08_Dictionary.ipynb Cell 6\u001b[0m line \u001b[0;36m2\n\u001b[0;32m      <a href='vscode-notebook-cell:/e%3A/Python1/Assigment/08_Dictionary.ipynb#W5sZmlsZQ%3D%3D?line=0'>1</a>\u001b[0m info \u001b[39m=\u001b[39m {\u001b[39m'\u001b[39m\u001b[39mname\u001b[39m\u001b[39m'\u001b[39m:\u001b[39m'\u001b[39m\u001b[39mSameed\u001b[39m\u001b[39m'\u001b[39m, \u001b[39m'\u001b[39m\u001b[39mage\u001b[39m\u001b[39m'\u001b[39m:\u001b[39m19\u001b[39m, \u001b[39m'\u001b[39m\u001b[39meligible\u001b[39m\u001b[39m'\u001b[39m:\u001b[39mTrue\u001b[39;00m}\n\u001b[1;32m----> <a href='vscode-notebook-cell:/e%3A/Python1/Assigment/08_Dictionary.ipynb#W5sZmlsZQ%3D%3D?line=1'>2</a>\u001b[0m \u001b[39mprint\u001b[39m(info[\u001b[39m'\u001b[39;49m\u001b[39mname1\u001b[39;49m\u001b[39m'\u001b[39;49m])\n",
      "\u001b[1;31mKeyError\u001b[0m: 'name1'"
     ]
    }
   ],
   "source": [
    "info = {'name':'Sameed', 'age':19, 'eligible':True}\n",
    "print(info['name1']) "
   ]
  },
  {
   "cell_type": "markdown",
   "metadata": {},
   "source": [
    "# <i>```get() Method```</i>"
   ]
  },
  {
   "cell_type": "code",
   "execution_count": 11,
   "metadata": {},
   "outputs": [
    {
     "name": "stdout",
     "output_type": "stream",
     "text": [
      "Sameed Does Not Exist\n"
     ]
    }
   ],
   "source": [
    "info = {'name':'Sameed', 'age':19, 'eligible':True}\n",
    "\n",
    "# Jab Key Exist Nahi Kare gi to Doesnot Exist wala msg output par messageshow hojae ga \n",
    "print(info.get('name2'),\"Does Not Exist\") \n"
   ]
  },
  {
   "cell_type": "markdown",
   "metadata": {},
   "source": [
    "# <i>```values()```</i>\n",
    "We can print all the values in the dictionary using values() method."
   ]
  },
  {
   "cell_type": "code",
   "execution_count": 2,
   "metadata": {},
   "outputs": [
    {
     "name": "stdout",
     "output_type": "stream",
     "text": [
      "dict_values(['Sameed', 19, True])\n",
      "<class 'dict_values'>\n"
     ]
    }
   ],
   "source": [
    "info = {'name':'Sameed', 'age':19, 'eligible':True}\n",
    "value=info.values()\n",
    "print(value)\n",
    "print(type(value))"
   ]
  },
  {
   "cell_type": "markdown",
   "metadata": {},
   "source": [
    "# <b> ```Accessing multiple values: with For Loop```</b>"
   ]
  },
  {
   "cell_type": "code",
   "execution_count": 5,
   "metadata": {},
   "outputs": [
    {
     "name": "stdout",
     "output_type": "stream",
     "text": [
      "the value of dictionary is Sameed\n",
      "the value of dictionary is 19\n",
      "the value of dictionary is True\n"
     ]
    }
   ],
   "source": [
    "info = {'name':'Sameed', 'age':19, 'eligible':True}\n",
    "for value in info.values():\n",
    "    print(f\"the value of dictionary is {value}\")"
   ]
  },
  {
   "cell_type": "markdown",
   "metadata": {},
   "source": [
    "# <i>```Keys```</i>\n",
    "We can print all the keys in the dictionary using keys() method."
   ]
  },
  {
   "cell_type": "code",
   "execution_count": 8,
   "metadata": {},
   "outputs": [
    {
     "name": "stdout",
     "output_type": "stream",
     "text": [
      "dict_keys(['name', 'age', 'eligible'])\n",
      "<class 'dict_keys'>\n"
     ]
    }
   ],
   "source": [
    "info = {'name':'Sameed', 'age':19, 'eligible':True}\n",
    "key=info.keys()\n",
    "print(key)\n",
    "print(type(key))"
   ]
  },
  {
   "cell_type": "markdown",
   "metadata": {},
   "source": [
    "# <b>```for Accessing keys: With For Loop```</b>"
   ]
  },
  {
   "cell_type": "code",
   "execution_count": 9,
   "metadata": {},
   "outputs": [
    {
     "name": "stdout",
     "output_type": "stream",
     "text": [
      "name\n",
      "age\n",
      "eligible\n",
      "Sameed\n",
      "19\n",
      "True\n"
     ]
    }
   ],
   "source": [
    "info = {'name':'Sameed', 'age':19, 'eligible':True}\n",
    "\n",
    "for key in info.keys():\n",
    "    print(key)\n",
    "\n",
    "# for Value access in keys method in for loop\n",
    "for value in info.keys():\n",
    "    print(info[value])"
   ]
  },
  {
   "cell_type": "markdown",
   "metadata": {},
   "source": [
    "# ```Accessing key-value pairs:```\n",
    "# items()\n",
    "\n",
    "We can print all the key-value pairs in the dictionary using items() method."
   ]
  },
  {
   "cell_type": "code",
   "execution_count": 10,
   "metadata": {},
   "outputs": [
    {
     "name": "stdout",
     "output_type": "stream",
     "text": [
      "dict_items([('name', 'Sameed'), ('age', 19), ('eligible', True)])\n",
      "<class 'dict_items'>\n",
      "name Sameed\n",
      "age 19\n",
      "eligible True\n"
     ]
    }
   ],
   "source": [
    "info = {'name':'Sameed', 'age':19, 'eligible':True}\n",
    "\n",
    "print(info.items())\n",
    "print(type(info.items()))\n",
    "\n",
    "for key,value in info.items():\n",
    "    print(key,value)\n"
   ]
  }
 ],
 "metadata": {
  "kernelspec": {
   "display_name": "practiceset",
   "language": "python",
   "name": "python3"
  },
  "language_info": {
   "codemirror_mode": {
    "name": "ipython",
    "version": 3
   },
   "file_extension": ".py",
   "mimetype": "text/x-python",
   "name": "python",
   "nbconvert_exporter": "python",
   "pygments_lexer": "ipython3",
   "version": "3.12.0"
  }
 },
 "nbformat": 4,
 "nbformat_minor": 2
}
