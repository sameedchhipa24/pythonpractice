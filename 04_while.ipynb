{
 "cells": [
  {
   "cell_type": "markdown",
   "metadata": {},
   "source": [
    "# While Loops"
   ]
  },
  {
   "cell_type": "markdown",
   "metadata": {},
   "source": [
    "** increament"
   ]
  },
  {
   "cell_type": "code",
   "execution_count": 20,
   "metadata": {},
   "outputs": [
    {
     "name": "stdout",
     "output_type": "stream",
     "text": [
      "Your number 0\n",
      "Your number 1\n",
      "Your number 2\n",
      "Done\n"
     ]
    }
   ],
   "source": [
    "i=0\n",
    "while(i<3):\n",
    "    print(f\"Your number {i}\")\n",
    "    i +=1\n",
    "print(\"Done\")\n"
   ]
  },
  {
   "cell_type": "markdown",
   "metadata": {},
   "source": [
    "* Decrieament"
   ]
  },
  {
   "cell_type": "code",
   "execution_count": 19,
   "metadata": {},
   "outputs": [
    {
     "name": "stdout",
     "output_type": "stream",
     "text": [
      "Your number 5\n",
      "Your number 4\n",
      "Your number 3\n",
      "Your number 2\n",
      "Your number 1\n"
     ]
    }
   ],
   "source": [
    "count=5\n",
    "while(count>0):\n",
    "    print(f\"Your number {count}\")\n",
    "    count -=1"
   ]
  },
  {
   "cell_type": "markdown",
   "metadata": {},
   "source": [
    "# Else with while loop"
   ]
  },
  {
   "cell_type": "code",
   "execution_count": 25,
   "metadata": {},
   "outputs": [
    {
     "name": "stdout",
     "output_type": "stream",
     "text": [
      "Your number 5\n",
      "Your number 4\n",
      "Your number 3\n",
      "Your number 2\n",
      "Your number 1\n",
      "You Counter is 0\n"
     ]
    }
   ],
   "source": [
    "count=5\n",
    "while(count>0):\n",
    "    print(f\"Your number {count}\")\n",
    "    count -=1\n",
    "else:\n",
    "    print(f\"You Counter is {count}\")"
   ]
  },
  {
   "cell_type": "markdown",
   "metadata": {},
   "source": []
  },
  {
   "cell_type": "code",
   "execution_count": 8,
   "metadata": {},
   "outputs": [
    {
     "name": "stdout",
     "output_type": "stream",
     "text": [
      "2293930626688\n",
      "2293930625472\n",
      "140736649447928\n",
      "140736649447928\n"
     ]
    }
   ],
   "source": [
    "# x=[1,2,3,4];\n",
    "\n",
    "# y=x.copy()\n",
    "\n",
    "# print(id(x))\n",
    "# print(id(y))\n",
    "\n",
    "a=[1,2,3,4]\n",
    "print(id(a))\n",
    "a=[1,2,3,4]\n",
    "print(id(a))\n",
    "\n",
    "a=3\n",
    "print(id(a))\n",
    "a=3\n",
    "print(id(a))"
   ]
  },
  {
   "cell_type": "code",
   "execution_count": null,
   "metadata": {},
   "outputs": [],
   "source": []
  }
 ],
 "metadata": {
  "kernelspec": {
   "display_name": "python12",
   "language": "python",
   "name": "python3"
  },
  "language_info": {
   "codemirror_mode": {
    "name": "ipython",
    "version": 3
   },
   "file_extension": ".py",
   "mimetype": "text/x-python",
   "name": "python",
   "nbconvert_exporter": "python",
   "pygments_lexer": "ipython3",
   "version": "3.12.0"
  }
 },
 "nbformat": 4,
 "nbformat_minor": 2
}
