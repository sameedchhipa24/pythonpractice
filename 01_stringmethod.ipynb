{
 "cells": [
  {
   "cell_type": "markdown",
   "metadata": {},
   "source": [
    "# Hello World"
   ]
  },
  {
   "cell_type": "code",
   "execution_count": 4,
   "metadata": {},
   "outputs": [
    {
     "name": "stdout",
     "output_type": "stream",
     "text": [
      "Hello World\n"
     ]
    }
   ],
   "source": [
    "variable=\"Hello World\";\n",
    "print(variable)"
   ]
  },
  {
   "cell_type": "markdown",
   "metadata": {},
   "source": [
    "# string"
   ]
  },
  {
   "cell_type": "code",
   "execution_count": 6,
   "metadata": {},
   "outputs": [
    {
     "name": "stdout",
     "output_type": "stream",
     "text": [
      "Sameed\n"
     ]
    }
   ],
   "source": [
    "names=\"Sameed\"\n",
    "print(names)"
   ]
  },
  {
   "cell_type": "markdown",
   "metadata": {},
   "source": [
    "# String Method"
   ]
  },
  {
   "cell_type": "markdown",
   "metadata": {},
   "source": [
    "* title\n",
    "* capitalize\n",
    "* upper\n",
    "* lower\n",
    "* split\n"
   ]
  },
  {
   "cell_type": "code",
   "execution_count": 3,
   "metadata": {},
   "outputs": [
    {
     "name": "stdout",
     "output_type": "stream",
     "text": [
      "Sameed Ahmed Chhipa\n",
      "Sameed ahmed chhipa\n",
      "SAMEED AHMED CHHIPA\n",
      "['sameed', 'Ahmed', 'chhipa']\n"
     ]
    }
   ],
   "source": [
    "names:str=\"sameed Ahmed chhipa\";\n",
    "\n",
    "\n",
    "print(names.title());\n",
    "\n",
    "print(names.capitalize());\n",
    "\n",
    "print(names.upper());\n",
    "\n",
    "print(names.split());\n",
    "\n",
    "\n"
   ]
  },
  {
   "cell_type": "markdown",
   "metadata": {},
   "source": [
    "* Strip \n",
    "* rstrip\n",
    "* replace\n",
    "* center\n",
    "* count"
   ]
  },
  {
   "cell_type": "code",
   "execution_count": 22,
   "metadata": {},
   "outputs": [
    {
     "name": "stdout",
     "output_type": "stream",
     "text": [
      "sameed Ahmed chhipa!!!!\n",
      "   sameed Ahmed chhipa\n",
      "   sameed Ahmed  _ !!!!\n",
      "               sameed Ahmed chhipa!!!!            \n",
      "1\n"
     ]
    }
   ],
   "source": [
    "names:str=\"   sameed Ahmed chhipa!!!!\";\n",
    "\n",
    "\n",
    "print(names.strip()); # Whitespace khatam hojaye ga\n",
    "\n",
    "print(names.rstrip(\"!\")); # End se hata dega lekin starting se nahi kare ga\n",
    "\n",
    "print(names.replace(\"chhipa\",\" _ \")); # Jo words likhen ge jo exist karta hoga or uske replace me likhen ge to change hojaye ga\n",
    "\n",
    "print(names.center(50)); # Spaces 25 times starting and end\n",
    "\n",
    "print(names.count(\"Ahmed\")) # 1 times araha he string me \"Ahmed\""
   ]
  },
  {
   "cell_type": "markdown",
   "metadata": {},
   "source": [
    "* endswith\n",
    "* find\n",
    "* index\n",
    "* isalnum\n",
    "* isalpha"
   ]
  },
  {
   "cell_type": "code",
   "execution_count": 39,
   "metadata": {},
   "outputs": [
    {
     "name": "stdout",
     "output_type": "stream",
     "text": [
      "True\n",
      "False\n",
      "11\n",
      "-1\n",
      "False\n",
      "False\n",
      "True\n",
      "True\n",
      "False\n"
     ]
    }
   ],
   "source": [
    "names:str=\"welcome to the sameed\";\n",
    "\n",
    "print(names.endswith(\"sameed\"));   \n",
    "print(names.endswith(\"ahmed\"));    \n",
    "\n",
    "print(names.find(\"the\"));\n",
    "print(names.find(\"is\")); # does not find return -1\n",
    "\n",
    "# print(names.index(\"is hh\")); # does not find but error generated\n",
    "\n",
    "\n",
    "print(names.isalnum()) # a-z , A-Z , 0-9\n",
    "print(names.isalpha()) # a-z , A-Z \n",
    "\n",
    "\n",
    "\n"
   ]
  },
  {
   "cell_type": "markdown",
   "metadata": {},
   "source": [
    "* isprintable\n",
    "* isspace\n",
    "* islower\n",
    "* istitle\n",
    "* isupper\n"
   ]
  },
  {
   "cell_type": "code",
   "execution_count": 43,
   "metadata": {},
   "outputs": [
    {
     "name": "stdout",
     "output_type": "stream",
     "text": [
      "True\n",
      "True\n",
      "False\n",
      "False\n",
      "False\n",
      "True\n"
     ]
    }
   ],
   "source": [
    "names1=\"sameed\\n\"\n",
    "\n",
    "print(names.islower());\n",
    "\n",
    "print(names.isprintable());\n",
    "print(names1.isprintable());\n",
    "\n",
    "print(names.istitle());\n",
    "\n",
    "print(names.isupper());\n",
    "\n",
    "names2=\"        \"; # space and tab include\n",
    "print(names2.isspace())"
   ]
  }
 ],
 "metadata": {
  "kernelspec": {
   "display_name": "practiceset",
   "language": "python",
   "name": "python3"
  },
  "language_info": {
   "codemirror_mode": {
    "name": "ipython",
    "version": 3
   },
   "file_extension": ".py",
   "mimetype": "text/x-python",
   "name": "python",
   "nbconvert_exporter": "python",
   "pygments_lexer": "ipython3",
   "version": "3.12.0"
  }
 },
 "nbformat": 4,
 "nbformat_minor": 2
}
