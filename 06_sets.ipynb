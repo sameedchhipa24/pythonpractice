{
 "cells": [
  {
   "cell_type": "markdown",
   "metadata": {},
   "source": [
    "# ```Sets```\n",
    "Sets are unordered collection of data items. They store multiple items in a single variable. Set items are separated by commas and enclosed within curly brackets {}. Sets are unchangeable, meaning you cannot change items of the set once created. Sets do not contain duplicate items.\n"
   ]
  },
  {
   "cell_type": "code",
   "execution_count": 1,
   "metadata": {},
   "outputs": [
    {
     "name": "stdout",
     "output_type": "stream",
     "text": [
      "<class 'set'>\n",
      "{'muzamil', 'musavir', 'sameed'}\n"
     ]
    }
   ],
   "source": [
    "names:set={\"sameed\",\"muzamil\",\"musavir\"}\n",
    "print(type(names))\n",
    "print(names)"
   ]
  },
  {
   "cell_type": "markdown",
   "metadata": {},
   "source": [
    "# Without Types Define in Empty set"
   ]
  },
  {
   "cell_type": "code",
   "execution_count": 2,
   "metadata": {},
   "outputs": [
    {
     "name": "stdout",
     "output_type": "stream",
     "text": [
      "<class 'dict'>\n"
     ]
    }
   ],
   "source": [
    "names={}\n",
    "print(type(names))"
   ]
  },
  {
   "cell_type": "markdown",
   "metadata": {},
   "source": [
    "* Why type dictionaries print and how type print class-set in empty\n"
   ]
  },
  {
   "cell_type": "code",
   "execution_count": 8,
   "metadata": {},
   "outputs": [
    {
     "name": "stdout",
     "output_type": "stream",
     "text": [
      "<class 'dict'>\n",
      "<class 'set'>\n"
     ]
    }
   ],
   "source": [
    "names:set={}\n",
    "print(type(names))\n",
    " #Even define types will still print the class dictionary\n",
    "\n",
    "names:set=set()\n",
    "print(type(names))"
   ]
  },
  {
   "cell_type": "markdown",
   "metadata": {},
   "source": [
    "# Accesing Sets item\n",
    "```Using a For Loop```"
   ]
  },
  {
   "cell_type": "code",
   "execution_count": 11,
   "metadata": {},
   "outputs": [
    {
     "name": "stdout",
     "output_type": "stream",
     "text": [
      "{True, 20, 85.32, 'sameed'}\n",
      "True\n",
      "20\n",
      "85.32\n",
      "sameed\n"
     ]
    }
   ],
   "source": [
    "info:set={\"sameed\",20,True,85.32}\n",
    "print(info)\n",
    "\n",
    "for info_generate in info:\n",
    "    print(info_generate)\n"
   ]
  },
  {
   "cell_type": "markdown",
   "metadata": {},
   "source": [
    "# Sets Method"
   ]
  },
  {
   "cell_type": "markdown",
   "metadata": {},
   "source": [
    "# ```Joining Sets```\n",
    "* Sets in python more or less work in the same way as sets in mathematics. We can perform operations like union and intersection on the sets just like in mathematics.\n"
   ]
  },
  {
   "cell_type": "markdown",
   "metadata": {},
   "source": [
    "# I. union() and update():\n",
    "\n",
    "* The union() and update() methods prints all items that are present in the two sets. The union() method returns a new set whereas update() method adds item into the existing set from another set."
   ]
  },
  {
   "cell_type": "markdown",
   "metadata": {},
   "source": [
    "<img src=\"https://i.ytimg.com/vi/sdflTUW6gHo/maxresdefault.jpg\" width=300/>"
   ]
  },
  {
   "cell_type": "markdown",
   "metadata": {},
   "source": [
    "# ```Union```\n",
    "The union() method returns a new set "
   ]
  },
  {
   "cell_type": "code",
   "execution_count": 67,
   "metadata": {},
   "outputs": [
    {
     "name": "stdout",
     "output_type": "stream",
     "text": [
      "{1, 2, 3, 4, 5, 6, 8, 10}\n",
      "{2, 4, 6, 8, 10}\n"
     ]
    }
   ],
   "source": [
    "even:set={2,4,6,8,10}\n",
    "natural:set={1,2,3,4,5}\n",
    "\n",
    "num=even.union(natural)\n",
    "print(num)\n",
    "\n",
    "print(even)\n",
    "\n"
   ]
  },
  {
   "cell_type": "markdown",
   "metadata": {},
   "source": [
    "# ```Update```\n",
    "update() method adds item into the existing set from another set."
   ]
  },
  {
   "cell_type": "code",
   "execution_count": 66,
   "metadata": {},
   "outputs": [
    {
     "name": "stdout",
     "output_type": "stream",
     "text": [
      "{2, 4, 6, 8, 10}\n",
      "{1, 2, 3, 4, 5, 6, 8, 10}\n"
     ]
    }
   ],
   "source": [
    "even:set={2,4,6,8,10}\n",
    "natural:set={1,2,3,4,5}\n",
    "\n",
    "\n",
    "even.update(natural)\n",
    "print(even) # {2, 4, 6, 8, 10}\n",
    "\n",
    "\n"
   ]
  },
  {
   "cell_type": "markdown",
   "metadata": {},
   "source": [
    "# intersection and intersection_update():\n",
    "\n",
    "The intersection() and intersection_update() methods prints only items that are similar to both the sets. The intersection() method returns a new set whereas intersection_update() method updates into the existing set from another set."
   ]
  },
  {
   "cell_type": "markdown",
   "metadata": {},
   "source": [
    "# ```Intesection```\n",
    "The intersection() method returns a new set"
   ]
  },
  {
   "cell_type": "code",
   "execution_count": 69,
   "metadata": {},
   "outputs": [
    {
     "name": "stdout",
     "output_type": "stream",
     "text": [
      "{2, 4}\n"
     ]
    }
   ],
   "source": [
    "even:set={2,4,6,8,10}\n",
    "natural:set={1,2,3,4,5}\n",
    "\n",
    "print(even.intersection(natural)) # {2, 4, 6, 8, 10}"
   ]
  },
  {
   "cell_type": "markdown",
   "metadata": {},
   "source": [
    "# ```Intersection Update```\n",
    "intersection_update() method updates into the existing set from another set."
   ]
  },
  {
   "cell_type": "code",
   "execution_count": 70,
   "metadata": {},
   "outputs": [
    {
     "name": "stdout",
     "output_type": "stream",
     "text": [
      "{2, 4}\n"
     ]
    }
   ],
   "source": [
    "even:set={2,4,6,8,10}\n",
    "natural:set={1,2,3,4,5}\n",
    "\n",
    "even.intersection_update(natural)\n",
    "print(even) # {2, 4, 6, 8}"
   ]
  },
  {
   "cell_type": "markdown",
   "metadata": {},
   "source": [
    " # symmetric_difference and symmetric_difference_update():\n",
    "\n",
    "The symmetric_difference() and symmetric_difference_update() methods prints only items that are not similar to both the sets. The symmetric_difference() method returns a new set whereas symmetric_difference_update() method updates into the existing set from another set."
   ]
  },
  {
   "cell_type": "markdown",
   "metadata": {},
   "source": [
    "# ```symmetric_difference```\n",
    "The symmetric_difference() method returns a new set"
   ]
  },
  {
   "cell_type": "code",
   "execution_count": 76,
   "metadata": {},
   "outputs": [
    {
     "name": "stdout",
     "output_type": "stream",
     "text": [
      "{1, 3, 5, 6, 8, 10}\n"
     ]
    }
   ],
   "source": [
    "even:set={2,4,6,8,10}\n",
    "natural:set={1,2,3,4,5}\n",
    "\n",
    "num=even.symmetric_difference(natural)\n",
    "print(num)"
   ]
  },
  {
   "cell_type": "markdown",
   "metadata": {},
   "source": [
    "# ```symmetric_difference_update()```\n",
    "symmetric_difference_update() method updates into the existing set from another set"
   ]
  },
  {
   "cell_type": "code",
   "execution_count": 71,
   "metadata": {},
   "outputs": [
    {
     "name": "stdout",
     "output_type": "stream",
     "text": [
      "{1, 3, 5, 6, 8, 10}\n"
     ]
    }
   ],
   "source": [
    "even:set={2,4,6,8,10}\n",
    "natural:set={1,2,3,4,5}\n",
    "\n",
    "even.symmetric_difference_update(natural)\n",
    "print(even)\n"
   ]
  },
  {
   "cell_type": "markdown",
   "metadata": {},
   "source": [
    "# difference() and difference_update()\n",
    "The difference() and difference_update() methods prints only items that are only present in the original set and not in both the sets. The difference() method returns a new set whereas difference_update() method updates into the existing set from another set."
   ]
  },
  {
   "cell_type": "markdown",
   "metadata": {},
   "source": [
    "# ```difference()```\n",
    " The difference() method returns a new set"
   ]
  },
  {
   "cell_type": "code",
   "execution_count": 84,
   "metadata": {},
   "outputs": [
    {
     "name": "stdout",
     "output_type": "stream",
     "text": [
      "{1, 3, 5}\n"
     ]
    }
   ],
   "source": [
    "even:set={2,4,6,8,10}\n",
    "natural:set={1,2,3,4,5}\n",
    "\n",
    "new_num=natural.difference(even)\n",
    "print(new_num)"
   ]
  },
  {
   "cell_type": "markdown",
   "metadata": {},
   "source": [
    "# ```difference_update()```\n",
    "difference_update() method updates into the existing set from another set."
   ]
  },
  {
   "cell_type": "code",
   "execution_count": 83,
   "metadata": {},
   "outputs": [
    {
     "name": "stdout",
     "output_type": "stream",
     "text": [
      "{6, 8, 10}\n"
     ]
    }
   ],
   "source": [
    "even:set={2,4,6,8,10}\n",
    "natural:set={1,2,3,4,5}\n",
    "\n",
    "even.difference_update(natural)\n",
    "print(even)\n"
   ]
  },
  {
   "cell_type": "markdown",
   "metadata": {},
   "source": [
    "# ```SET METHOD```\n",
    "\n",
    "There are several in-built methods used for the manipulation of set.They are explained below"
   ]
  },
  {
   "cell_type": "markdown",
   "metadata": {},
   "source": [
    "# ```isdisjoint()```\n",
    "\n",
    "The isdisjoint() method checks if items of given set are present in another set. This method returns False if items are present, else it returns True."
   ]
  },
  {
   "cell_type": "code",
   "execution_count": 90,
   "metadata": {},
   "outputs": [
    {
     "name": "stdout",
     "output_type": "stream",
     "text": [
      "False\n",
      "True\n"
     ]
    }
   ],
   "source": [
    "cities = {\"Tokyo\", \"Madrid\", \"Berlin\", \"Karachi\"}\n",
    "cities2 = {\"Tokyo\", \"Seoul\", \"Karachi\", \"Madrid\"}\n",
    "print(cities.isdisjoint(cities2))  # dono me 1 bhi ek bhi value same hogi to false return hoga\n",
    "\n",
    "\n",
    "cities = {\"Tokyo\", \"Canberra\", \"Berlin\", \"Karachi\"}     \n",
    "cities2 = {\"Sukkur\", \"Seoul\", \"Hyderabad\", \"Madrid\"}\n",
    "print(cities.isdisjoint(cities2))   # dono me same nahi he is waja se true aya he\n"
   ]
  },
  {
   "cell_type": "markdown",
   "metadata": {},
   "source": [
    "# ```issuperset()```\n",
    "\n",
    "The issuperset() method checks if all the items of a particular set are present in the original set. It returns True if all the items are present, else it returns False."
   ]
  },
  {
   "cell_type": "code",
   "execution_count": 102,
   "metadata": {},
   "outputs": [
    {
     "name": "stdout",
     "output_type": "stream",
     "text": [
      "False\n",
      "True\n"
     ]
    }
   ],
   "source": [
    "cities = {\"Tokyo\", \"Canberra\", \"Berlin\", \"Karachi\"}     \n",
    "cities2 = {\"Sukkur\", \"Seoul\", \"Hyderabad\", \"Madrid\"} \n",
    "print(cities.issuperset(cities2))  # Reference => Cities2 ke sari value cities ke andar exist karti he isliye false aya he\n",
    "\n",
    "cities = {\"Sukkur\", \"Seoul\", \"Berlin\", \"Karachi\"}     \n",
    "cities2 = {\"Sukkur\", \"Seoul\"}\n",
    "print(cities.issuperset(cities2))  # Reference => Cities2 ke sari value cities ke andar exist karti he isliye true aya he"
   ]
  },
  {
   "cell_type": "markdown",
   "metadata": {},
   "source": [
    "# ```issubset()```\n",
    "\n",
    "The issubset() method checks if all the items of the original set are present in the particular set. It returns True if all the items are present, else it returns False."
   ]
  },
  {
   "cell_type": "code",
   "execution_count": 105,
   "metadata": {},
   "outputs": [
    {
     "name": "stdout",
     "output_type": "stream",
     "text": [
      "False\n",
      "True\n"
     ]
    }
   ],
   "source": [
    "cities = {\"Tokyo\", \"Canberra\", \"Berlin\", \"Karachi\"}     \n",
    "cities2 = {\"Sukkur\", \"Seoul\", \"Hyderabad\", \"Madrid\"} \n",
    "print(cities.issubset(cities2)) \n",
    "\n",
    "cities2= {\"Sukkur\", \"Seoul\", \"Berlin\", \"Karachi\"}     \n",
    "cities = {\"Sukkur\", \"Seoul\"}\n",
    "print(cities.issubset(cities2)) "
   ]
  },
  {
   "cell_type": "markdown",
   "metadata": {},
   "source": [
    "# ```add()```\n",
    "\n",
    "If you want to add a single item to the set use the add() method."
   ]
  },
  {
   "cell_type": "code",
   "execution_count": 110,
   "metadata": {},
   "outputs": [
    {
     "name": "stdout",
     "output_type": "stream",
     "text": [
      "{'muzamil', 'musavir', 'sameed', 'Asad'}\n"
     ]
    }
   ],
   "source": [
    "names:set={\"sameed\",\"muzamil\",\"musavir\"}\n",
    "names.add(\"Asad\")\n",
    "\n",
    "print(names)"
   ]
  },
  {
   "cell_type": "markdown",
   "metadata": {},
   "source": [
    "# ```update()```\n",
    "If you want to add more than one item, simply create another set or any other iterable object(list, tuple, dictionary), and use the update() method to add it into the existing set."
   ]
  },
  {
   "cell_type": "code",
   "execution_count": 112,
   "metadata": {},
   "outputs": [
    {
     "name": "stdout",
     "output_type": "stream",
     "text": [
      "{'muzamil', 'Nasir', 'Gufran', 'musavir', 'sameed', 'Asad'}\n"
     ]
    }
   ],
   "source": [
    "names:set={\"sameed\",\"muzamil\",\"musavir\"}\n",
    "names1:set={\"Asad\",\"Nasir\",\"Gufran\"}\n",
    "\n",
    "names.update(names1)\n",
    "print(names)"
   ]
  },
  {
   "cell_type": "markdown",
   "metadata": {},
   "source": [
    "# ```remove()/discard()```\n",
    "We can use remove() and discard() methods to remove items form list.\n",
    "The main difference between remove and discard is that, if we try to delete an item which is not present in set, then remove() raises an error, whereas discard() does not raise any error.\n"
   ]
  },
  {
   "cell_type": "markdown",
   "metadata": {},
   "source": [
    "```Remove```"
   ]
  },
  {
   "cell_type": "code",
   "execution_count": 118,
   "metadata": {},
   "outputs": [
    {
     "name": "stdout",
     "output_type": "stream",
     "text": [
      "{'Nasir', 'Asad'}\n"
     ]
    },
    {
     "ename": "KeyError",
     "evalue": "'sameed'",
     "output_type": "error",
     "traceback": [
      "\u001b[1;31m---------------------------------------------------------------------------\u001b[0m",
      "\u001b[1;31mKeyError\u001b[0m                                  Traceback (most recent call last)",
      "\u001b[1;32me:\\Python1\\Assigment\\sets.ipynb Cell 45\u001b[0m line \u001b[0;36m6\n\u001b[0;32m      <a href='vscode-notebook-cell:/e%3A/Python1/Assigment/sets.ipynb#Y110sZmlsZQ%3D%3D?line=2'>3</a>\u001b[0m \u001b[39mprint\u001b[39m(names1)\n\u001b[0;32m      <a href='vscode-notebook-cell:/e%3A/Python1/Assigment/sets.ipynb#Y110sZmlsZQ%3D%3D?line=4'>5</a>\u001b[0m names1:\u001b[39mset\u001b[39m\u001b[39m=\u001b[39m{\u001b[39m\"\u001b[39m\u001b[39mAsad\u001b[39m\u001b[39m\"\u001b[39m,\u001b[39m\"\u001b[39m\u001b[39mNasir\u001b[39m\u001b[39m\"\u001b[39m,\u001b[39m\"\u001b[39m\u001b[39mGufran\u001b[39m\u001b[39m\"\u001b[39m}\n\u001b[1;32m----> <a href='vscode-notebook-cell:/e%3A/Python1/Assigment/sets.ipynb#Y110sZmlsZQ%3D%3D?line=5'>6</a>\u001b[0m names1\u001b[39m.\u001b[39;49mremove(\u001b[39m\"\u001b[39;49m\u001b[39msameed\u001b[39;49m\u001b[39m\"\u001b[39;49m)\n\u001b[0;32m      <a href='vscode-notebook-cell:/e%3A/Python1/Assigment/sets.ipynb#Y110sZmlsZQ%3D%3D?line=6'>7</a>\u001b[0m \u001b[39mprint\u001b[39m(names1)\n",
      "\u001b[1;31mKeyError\u001b[0m: 'sameed'"
     ]
    }
   ],
   "source": [
    "names1:set={\"Asad\",\"Nasir\",\"Gufran\"}\n",
    "names1.remove(\"Gufran\")\n",
    "print(names1)\n",
    "\n",
    "names1:set={\"Asad\",\"Nasir\",\"Gufran\"}\n",
    "names1.remove(\"sameed\")\n",
    "print(names1)"
   ]
  },
  {
   "cell_type": "markdown",
   "metadata": {},
   "source": [
    "```discard```"
   ]
  },
  {
   "cell_type": "code",
   "execution_count": 119,
   "metadata": {},
   "outputs": [
    {
     "name": "stdout",
     "output_type": "stream",
     "text": [
      "{'Nasir', 'Asad'}\n",
      "{'Nasir', 'Gufran', 'Asad'}\n"
     ]
    }
   ],
   "source": [
    "names1:set={\"Asad\",\"Nasir\",\"Gufran\"}\n",
    "names1.remove(\"Gufran\")\n",
    "print(names1)\n",
    "\n",
    "names1:set={\"Asad\",\"Nasir\",\"Gufran\"}\n",
    "names1.discard(\"sameed\")\n",
    "print(names1)"
   ]
  },
  {
   "cell_type": "markdown",
   "metadata": {},
   "source": [
    "# ``` pop()```\n",
    "\n",
    "This method removes the last item of the set but the catch is that we don’t know which item gets popped as sets are unordered. However, you can access the popped item if you assign the pop() method to a variable.\n"
   ]
  },
  {
   "cell_type": "code",
   "execution_count": 120,
   "metadata": {},
   "outputs": [
    {
     "name": "stdout",
     "output_type": "stream",
     "text": [
      "{'Gufran', 'Asad'}\n"
     ]
    }
   ],
   "source": [
    "names1:set={\"Asad\",\"Nasir\",\"Gufran\"}\n",
    "names1.pop()\n",
    "print(names1)"
   ]
  },
  {
   "cell_type": "markdown",
   "metadata": {},
   "source": [
    "# ```del```\n",
    "\n",
    "del is not a method, rather it is a keyword which deletes the set entirely."
   ]
  },
  {
   "cell_type": "code",
   "execution_count": 122,
   "metadata": {},
   "outputs": [
    {
     "ename": "NameError",
     "evalue": "name 'names1' is not defined",
     "output_type": "error",
     "traceback": [
      "\u001b[1;31m---------------------------------------------------------------------------\u001b[0m",
      "\u001b[1;31mNameError\u001b[0m                                 Traceback (most recent call last)",
      "\u001b[1;32me:\\Python1\\Assigment\\sets.ipynb Cell 51\u001b[0m line \u001b[0;36m3\n\u001b[0;32m      <a href='vscode-notebook-cell:/e%3A/Python1/Assigment/sets.ipynb#Y120sZmlsZQ%3D%3D?line=0'>1</a>\u001b[0m names1:\u001b[39mset\u001b[39m\u001b[39m=\u001b[39m{\u001b[39m\"\u001b[39m\u001b[39mAsad\u001b[39m\u001b[39m\"\u001b[39m,\u001b[39m\"\u001b[39m\u001b[39mNasir\u001b[39m\u001b[39m\"\u001b[39m,\u001b[39m\"\u001b[39m\u001b[39mGufran\u001b[39m\u001b[39m\"\u001b[39m}\n\u001b[0;32m      <a href='vscode-notebook-cell:/e%3A/Python1/Assigment/sets.ipynb#Y120sZmlsZQ%3D%3D?line=1'>2</a>\u001b[0m \u001b[39mdel\u001b[39;00m names1 \u001b[39m# idher names 1 delete hogaya ab is nam ka kui variable ya sets hi nahi bana hua he ke printho is line ke bad lekin isko b fix karne ka ek tariqa he CLEAR() ka method\u001b[39;00m\n\u001b[1;32m----> <a href='vscode-notebook-cell:/e%3A/Python1/Assigment/sets.ipynb#Y120sZmlsZQ%3D%3D?line=2'>3</a>\u001b[0m \u001b[39mprint\u001b[39m(names1)\n",
      "\u001b[1;31mNameError\u001b[0m: name 'names1' is not defined"
     ]
    }
   ],
   "source": [
    "names1:set={\"Asad\",\"Nasir\",\"Gufran\"}\n",
    "del names1 # idher names 1 delete hogaya ab is nam ka kui variable ya sets hi nahi bana hua he ke printho is line ke bad lekin isko b fix karne ka ek tariqa he CLEAR() ka method\n",
    "print(names1)"
   ]
  },
  {
   "cell_type": "markdown",
   "metadata": {},
   "source": [
    "NameError: name 'cities' is not defined We get an error because our entire set has been deleted and\n",
    "there is no variable called cities which contains a set.\n",
    "What if we don’t want to delete the entire set, we just want to delete all items within that set?"
   ]
  },
  {
   "cell_type": "markdown",
   "metadata": {},
   "source": [
    "# ```Clear()```\n",
    "This method clears all items in the set and prints an empty set."
   ]
  },
  {
   "cell_type": "code",
   "execution_count": 123,
   "metadata": {},
   "outputs": [
    {
     "name": "stdout",
     "output_type": "stream",
     "text": [
      "set()\n"
     ]
    }
   ],
   "source": [
    "names1:set={\"Asad\",\"Nasir\",\"Gufran\"}\n",
    "names1.clear() \n",
    "print(names1)"
   ]
  },
  {
   "cell_type": "markdown",
   "metadata": {},
   "source": [
    "# ```Check if item exists```\n",
    "\n",
    "You can also check if an item exists in the set or not."
   ]
  },
  {
   "cell_type": "code",
   "execution_count": 125,
   "metadata": {},
   "outputs": [
    {
     "name": "stdout",
     "output_type": "stream",
     "text": [
      "Sameed Not Exist\n"
     ]
    }
   ],
   "source": [
    "names1:set={\"Asad\",\"Nasir\",\"Gufran\"}\n",
    "if \"sameed\" in names1:\n",
    "    print(\"Sameed Exist\")\n",
    "else:\n",
    "    print(\"Sameed Not Exist\")"
   ]
  }
 ],
 "metadata": {
  "kernelspec": {
   "display_name": "practiceset",
   "language": "python",
   "name": "python3"
  },
  "language_info": {
   "codemirror_mode": {
    "name": "ipython",
    "version": 3
   },
   "file_extension": ".py",
   "mimetype": "text/x-python",
   "name": "python",
   "nbconvert_exporter": "python",
   "pygments_lexer": "ipython3",
   "version": "3.12.0"
  }
 },
 "nbformat": 4,
 "nbformat_minor": 2
}
