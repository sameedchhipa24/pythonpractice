{
 "cells": [
  {
   "cell_type": "markdown",
   "metadata": {},
   "source": [
    "# IF-ELSE STATMENT"
   ]
  },
  {
   "cell_type": "code",
   "execution_count": 2,
   "metadata": {},
   "outputs": [
    {
     "name": "stdout",
     "output_type": "stream",
     "text": [
      "Your Number is 6\n"
     ]
    }
   ],
   "source": [
    "number = int(input(\"Enter Your Statement\"))\n",
    "\n",
    "if number == 6:\n",
    "    print (\"Your Number is\",number);\n",
    "else:\n",
    "    print (\"Number is not equal to 6\");"
   ]
  },
  {
   "cell_type": "markdown",
   "metadata": {},
   "source": [
    "# IF - ELIF - ELSE STATEMENT"
   ]
  },
  {
   "cell_type": "code",
   "execution_count": 3,
   "metadata": {},
   "outputs": [
    {
     "name": "stdout",
     "output_type": "stream",
     "text": [
      "Your Number is 8\n"
     ]
    }
   ],
   "source": [
    "number = int(input(\"Enter Your Statement\"))\n",
    "\n",
    "if number == 6:\n",
    "    print (\"Your Number is\",number);\n",
    "elif number == 8:\n",
    "    print (\"Your Number is\",number)\n",
    "else:\n",
    "    print (\"Number is not equal to 6\");"
   ]
  }
 ],
 "metadata": {
  "kernelspec": {
   "display_name": "practiceset",
   "language": "python",
   "name": "python3"
  },
  "language_info": {
   "codemirror_mode": {
    "name": "ipython",
    "version": 3
   },
   "file_extension": ".py",
   "mimetype": "text/x-python",
   "name": "python",
   "nbconvert_exporter": "python",
   "pygments_lexer": "ipython3",
   "version": "3.12.0"
  }
 },
 "nbformat": 4,
 "nbformat_minor": 2
}
