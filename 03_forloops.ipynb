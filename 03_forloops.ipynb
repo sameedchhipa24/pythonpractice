{
 "cells": [
  {
   "cell_type": "markdown",
   "metadata": {},
   "source": [
    "# loop with string"
   ]
  },
  {
   "cell_type": "code",
   "execution_count": 1,
   "metadata": {},
   "outputs": [
    {
     "name": "stdout",
     "output_type": "stream",
     "text": [
      "s\n",
      "a\n",
      "m\n",
      "e\n",
      "e\n",
      "d\n"
     ]
    }
   ],
   "source": [
    "colors:str=\"sameed\";\n",
    "\n",
    "for color in colors:\n",
    "    print(color)"
   ]
  },
  {
   "cell_type": "markdown",
   "metadata": {},
   "source": [
    "# Loops with list\n"
   ]
  },
  {
   "cell_type": "code",
   "execution_count": 4,
   "metadata": {},
   "outputs": [
    {
     "name": "stdout",
     "output_type": "stream",
     "text": [
      "My name is sameed.\n",
      "My name is muzamil.\n",
      "My name is mudassir.\n",
      "My name is musavir.\n"
     ]
    }
   ],
   "source": [
    "names=[\"sameed\",\"muzamil\",\"mudassir\",\"musavir\"];\n",
    "for name in names:\n",
    "    print(f\"My name is {name}.\")"
   ]
  },
  {
   "cell_type": "markdown",
   "metadata": {},
   "source": [
    "# Range()\n",
    "\n",
    "*Range( start:int , stop:int , step:int )"
   ]
  },
  {
   "cell_type": "code",
   "execution_count": 8,
   "metadata": {},
   "outputs": [
    {
     "name": "stdout",
     "output_type": "stream",
     "text": [
      "1\n",
      "2\n",
      "3\n"
     ]
    }
   ],
   "source": [
    "                #Start  #end-1\n",
    "for number in range(1,4):\n",
    "    print(number)\n",
    " "
   ]
  },
  {
   "cell_type": "code",
   "execution_count": 9,
   "metadata": {},
   "outputs": [
    {
     "name": "stdout",
     "output_type": "stream",
     "text": [
      "3\n",
      "4\n",
      "5\n",
      "6\n"
     ]
    }
   ],
   "source": [
    "             #Start  #end-1\n",
    "for number in range(3,7):\n",
    "    print(number)"
   ]
  },
  {
   "cell_type": "code",
   "execution_count": 10,
   "metadata": {},
   "outputs": [
    {
     "name": "stdout",
     "output_type": "stream",
     "text": [
      "2\n",
      "4\n",
      "6\n",
      "8\n",
      "10\n",
      "12\n",
      "14\n",
      "16\n"
     ]
    }
   ],
   "source": [
    "            #Start  #end-1 #jumpindex\n",
    "for number in range(2,18,2):\n",
    "    print(number)"
   ]
  },
  {
   "cell_type": "code",
   "execution_count": 12,
   "metadata": {},
   "outputs": [
    {
     "name": "stdout",
     "output_type": "stream",
     "text": [
      "0\n",
      "3\n",
      "6\n",
      "9\n",
      "12\n",
      "15\n",
      "18\n",
      "21\n",
      "24\n",
      "27\n",
      "30\n"
     ]
    }
   ],
   "source": [
    "            #Start  #end-1 #jumpindex\n",
    "for number in range(1,31,3):\n",
    "    print(number)"
   ]
  },
  {
   "cell_type": "markdown",
   "metadata": {},
   "source": [
    "# Loop With Slicing"
   ]
  },
  {
   "cell_type": "code",
   "execution_count": 1,
   "metadata": {},
   "outputs": [
    {
     "name": "stdout",
     "output_type": "stream",
     "text": [
      "['sameed', 'musavir', 'mudassir', 'muzamil', 'mahad', 'aliyan', 'mustafa']\n",
      "mudassir\n",
      "muzamil\n",
      "mahad\n"
     ]
    }
   ],
   "source": [
    "names:list[str]=[\"sameed\",\"musavir\",\"mudassir\",\"muzamil\",\"mahad\",\"aliyan\",\"mustafa\"];\n",
    "print(names)\n",
    "\n",
    "for name in names[2:5]:\n",
    "    print(name)"
   ]
  },
  {
   "cell_type": "markdown",
   "metadata": {},
   "source": [
    "# Loop With Slicing and use JumpIndex"
   ]
  },
  {
   "cell_type": "code",
   "execution_count": 9,
   "metadata": {},
   "outputs": [
    {
     "name": "stdout",
     "output_type": "stream",
     "text": [
      "sameed\n",
      "mudassir\n",
      "mahad\n",
      "mustafa\n"
     ]
    }
   ],
   "source": [
    "names:list[str]=[\"sameed\",\"musavir\",\"mudassir\",\"muzamil\",\"mahad\",\"aliyan\",\"mustafa\"];\n",
    "\n",
    "for name in names[0:len(names):2]:\n",
    "    print(name)\n",
    "\n",
    "\n"
   ]
  }
 ],
 "metadata": {
  "kernelspec": {
   "display_name": "practiceset",
   "language": "python",
   "name": "python3"
  },
  "language_info": {
   "codemirror_mode": {
    "name": "ipython",
    "version": 3
   },
   "file_extension": ".py",
   "mimetype": "text/x-python",
   "name": "python",
   "nbconvert_exporter": "python",
   "pygments_lexer": "ipython3",
   "version": "3.12.0"
  }
 },
 "nbformat": 4,
 "nbformat_minor": 2
}
